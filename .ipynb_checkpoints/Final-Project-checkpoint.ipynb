{
 "cells": [
  {
   "cell_type": "markdown",
   "metadata": {},
   "source": [
    "# CMPINF0010 Lab Final Project\n",
    "\n",
    "Your final project is, at least ideally, the conjoining of everything you've learned in the course so far. You'll be using many of the big ideas you've learned, your Python skills, command-line and `git`, and plenty of pandas and data viz. \n",
    "\n",
    "You will be working in teams (assigned below) to make a data driven argument that answers the following question:\n",
    "\n",
    "## What is the best neighborhood in Pittsburgh?\n",
    "\n",
    "Using data from the WPRDC, you will create a data driven argument to support your claim about the “best” neighborhood in Pittsburgh.\n",
    "\n",
    "With your group members, you will be creating a Jupyter notebook to demonstrate your argument and the data analysis you did to support it. You will present your arguments to the class in the last few weeks of lab.\n",
    "\n",
    "To answer this question you need to do the following:\n",
    "\n",
    "* Come up with a team name!\n",
    "* As a group, come up with some ways of defining and measuring \"bestness\". Each group member will be responsible for **one metric each.**\n",
    "* Use at least 3 datasets in your argument. The easiest way to meet this requirement is for each member to choose their own _unique_ dataset to analyze their metric.\n",
    "* Combine your metrics into a single metric as you see fit.\n",
    "* Create a git repository to store your data and notebooks and code.\n",
    "\n",
    "\n",
    "**Note**: There is a lot of subjectivity here, to wit, *what does \"best\" mean?*. One of your tasks in this project is to come up with your own metric for “best” and then use it to analyze data to determine the best neighborhood. The goal of this final project is to work as a team to develop a metric, apply it, and write up the results.\n",
    "\n",
    "You could define \"best\" as the smartest and then define smartness as \"number of advanced degree holders living in the neighborhood\". Or you might also define best as the ratio of the ”number of potholes\" and the “number of trees” in the neighborhood (lower or higher, the decision is up to you). How you want to measure bestness is up to you.\n",
    "\n",
    "**Most importantly** have fun with this project. Be creative. Think outside the box. Play with stuff. Break Jupyter a couple times. Find an odd dataset and figure out a way to use it. The WPRDC is (not literally) your oyster.\n",
    "\n",
    "----"
   ]
  },
  {
   "cell_type": "markdown",
   "metadata": {},
   "source": [
    "## Groups \n",
    "\n",
    "You'll be (randomly) broken into groups within your lab section, which you can view [on Canvas](https://canvas.pitt.edu/), in the Final Project assignment description. The groups were pseudo-randomly chosen by the machine.\n",
    "\n",
    "Once you've found your group mates, link up with them (with the emails provided, or through whatever other means you wish (see below)). **Each** person will turn in **a link to your project's repo**.\n",
    "\n",
    "---"
   ]
  },
  {
   "cell_type": "markdown",
   "metadata": {},
   "source": [
    "## The Breakdown (AKA What Goes in the GitHub repo)\n",
    "\n",
    "There are some key things that need to be included in your repository. Think of this project as a combination of all of the things we learned in lab this semester, with a focus on the last few weeks. So, there are some minimum requirements of files and information you will want to put in your group repo.\n",
    "* The final report Jupyter notebook (see below)\n",
    "* A Readme that contains:\n",
    "  * Team name\n",
    "  * Team members and their email addresses\n",
    "  * Description and links to the datasets used\n",
    "  * An Abstract\n",
    "* Each group member's personal notebook(s) (Show your work)\n",
    "\n",
    "\n",
    "While this is a group project, each group member has their own responsibility. In addition, all group members have responsibilities as a group. Basically, the best success will be found by those who work as a team.\n",
    "\n",
    "\n",
    "Individual responsibilities:\n",
    "* Maintain your own notebook where you use a metric to find the \"Best\" Neighborhood in Pittsburgh\n",
    "* Make sure the group repo has the personal notebook\n",
    "* Write a conclusion\n",
    "* Submit a link to the group repo on Canvas\n",
    "\n",
    "\n",
    "Group responsibilities:\n",
    "* Have a group repository that contains all work done\n",
    "* Combine Individual metrics into a single final metric (surprisingly, this does require teamwork)\n",
    "* Have a Best Neighborhood for your group\n",
    "\n",
    "\n",
    "---"
   ]
  },
  {
   "cell_type": "markdown",
   "metadata": {},
   "source": [
    "## Check In\n",
    "\n",
    "In the next-to-last week of this lab (the week before presentations), your group will meet with your TA and discuss your argument for what is the best neighborhood in Pittsburgh. You will have to talk about your metrics and how you are applying it, how the process is going, and what you have completed and what you have left to complete. Expect to have a discussion about your team’s metrics and get feedback to incorporate into the final report.\n",
    "\n",
    "Presentations should last a maximum of 10 minutes, with 5 minutes of discussion.\n",
    "\n",
    "You can prepare slides or you can present from a notebook directly. We understand your analysis will be in-progress, but you should have some initial results.\n",
    "\n",
    "Each group member should be able to talk about their metric and what data they're using to measure it.\n",
    "\n",
    "---"
   ]
  },
  {
   "cell_type": "markdown",
   "metadata": {},
   "source": [
    "## Final Report & Presentation\n",
    "\n",
    "It is best to think about your final project as a data-driven report. You will need to put everything into a Jupyter notebook with the following structure:\n",
    "\n",
    "* **Introduction:** Introduce the project, your approach, talk about the process of how you came up with the metric and some alternatives you may have explored.\n",
    "* **The Metric:** Describe your metric, what features are you measuring. What datasets  are you using?\n",
    "* **The Best Neighborhood:** Apply the metric from the previous section to determine the best neighborhood in Pittsburgh. Beyond just executing code, provide narrative about why you think this is the best neighborhood. Incorporate a data visualization, perhaps to rank all of the neighborhoods or show a neighborhood’s best-ness over time. The key is to make a data driven argument.\n",
    "* **Conclusion:** Reflect on how the data driven determination of “best neighborhood” is the same or different from your personal favorite neighborhood. Each member of the group should write their own response to this.\n",
    "\n",
    "Then, in our final meetings, each group will present their findings to the whole class. This presentation will cover all of the above categories.\n",
    "\n",
    "### Tips\n",
    "\n",
    "* Make this fun! Don’t make this harder than it needs to be. You define your metrics, so you are entirely free to pick a metric that is easy to calculate, but reveals something fun about Pittsburgh. You can also be as fancy as you want, and if you want to do something big and impressive, go for it!\n",
    "* Show your work, but not all of it. When working on a project, I often have a couple sets of notebooks. One is a set of working notebooks where I do my data exploration, hack on the code, and go down wrong paths. When I finally am able to pull together the code that generates the result I want, I move just that code into my “final draft.” I only want to see the data cleaning, transformation, analysis, and visualization associated with the specific argument you are making in the final notebook and presentation.\n",
    "* Act like you're presenting to a non-technical audience and/or you from the begining of the semester. Don't read your code line by line, that can be just as boring to the presenter as it is to the audience!\n",
    "* GIFs, memes, and jokes, when used appropiately, make a presentation more engaging for everyone!\n",
    "\n",
    "### **NOTE**\n",
    "\n",
    "If you are Presenting in the first week, the presentation expectations are slightly lower, as you've had a week less to work on the project, however, we still expect all of the components, just less polish. Most final report feedback will come without any score loss unless you are missing large portions of the project. If you present in the second week, we expect a finished project that, at most, needs only minor tweeks. You may lose some score if the presentation or report isn't complete.\n",
    "\n",
    "---"
   ]
  },
  {
   "cell_type": "markdown",
   "metadata": {},
   "source": [
    "## Collaboration\n",
    "\n",
    "You should use a shared GitHub repository to collaborate with your group, so that you can work on the project and be sure that you all have the same version. One person should create a repository for the project, and then they'll need to invite the other members of the group to collaborate. You can see how to do that in this [GitHub article](https://help.github.com/articles/inviting-collaborators-to-a-personal-repository/). \n",
    "\n",
    "For programming, I'd point your attention to the software development concept of \"pair programming\". It's defined [here](https://www.agilealliance.org/glossary/pairing/): \n",
    "\n",
    "> \"Pair programming consists of two programmers sharing a single workstation (one screen, keyboard and mouse among the pair). The programmer at the keyboard is usually called the \"driver\", the other, also actively involved in the programming task but focusing more on overall direction is the \"navigator\"; it is expected that the programmers swap roles every few minutes or so.\n",
    "\n",
    "If you and your partners want to work together to solve the larger coding/data analysis problems, pair programming can be a good framework to try to operate in. It, however, is just a suggestion.\n",
    "\n",
    "\n",
    "### Online collaboration toolkit\n",
    "\n",
    "Here is a list of tools that might help you and your team work together on this project:\n",
    "\n",
    "* [Zoom](https://pitt.zoom.us)\n",
    "    * To login to your Pitt Enterprise Zoom account:\n",
    "    * Go to [pitt.zoom.us](https://pitt.zoom.us)\n",
    "    * Click \"Sign In\"\n",
    "    * Choose \"SSO\" or \"Single Sign On\"\n",
    "    * Enter \"Pitt\"\n",
    "    * You should now be able to host meetings for your team\n",
    "* [GitHub](https://github.com)\n",
    "    * Share your code among your team\n",
    "* [Google Docs](https://drive.google.com)\n",
    "    * Online communication and organization\n",
    "* [Discord](https://discordapp.com)\n",
    "    * Another online communication option\n",
    "* [Pulse Secure](https://www.technology.pitt.edu/software/pulse-client-installers)\n",
    "* [Virtual Lab](https://www.technology.pitt.edu/services/virtual-lab)\n",
    "\n",
    "---"
   ]
  },
  {
   "cell_type": "markdown",
   "metadata": {},
   "source": [
    "## Completing the Report and Presentation\n",
    "\n",
    "You'll have this week and next to work on your presentation and the project in lab and independently, with your groups. Don't forget that you will have to talk about your project to your TA in the Lab section before presentations begin!\n",
    "\n",
    "The final two lab sessions will consist of **student presentations**: each group will give a short presentation on their chosen neighborhood. These presentations will be a lot like your lab lecture; you'll be presenting from your Jupyter notebook. You should prepare these with your group ahead of time, taking the time to write yourself speaker notes and get a sense of who will be presenting what.\n",
    "\n",
    "If you have a **problem with being able to attend** to give your presentation, let me know as soon as possible.\n",
    "\n",
    "Next week, the groups will \"select\" their **presentation times**. "
   ]
  },
  {
   "cell_type": "code",
   "execution_count": null,
   "metadata": {},
   "outputs": [],
   "source": []
  }
 ],
 "metadata": {
  "kernelspec": {
   "display_name": "Python 3",
   "language": "python",
   "name": "python3"
  },
  "language_info": {
   "codemirror_mode": {
    "name": "ipython",
    "version": 3
   },
   "file_extension": ".py",
   "mimetype": "text/x-python",
   "name": "python",
   "nbconvert_exporter": "python",
   "pygments_lexer": "ipython3",
   "version": "3.8.3"
  }
 },
 "nbformat": 4,
 "nbformat_minor": 4
}
