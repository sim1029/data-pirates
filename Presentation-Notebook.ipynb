{
 "cells": [
  {
   "cell_type": "markdown",
   "metadata": {},
   "source": [
    "# The best neighborhood in Pittsburgh by 3 metrics: Housing, Arrests, and Playgrounds"
   ]
  },
  {
   "cell_type": "markdown",
   "metadata": {},
   "source": [
    "Playground Data"
   ]
  },
  {
   "cell_type": "code",
   "execution_count": 1,
   "metadata": {},
   "outputs": [],
   "source": [
    "#Playground Data\n",
    "\n",
    "import pandas as pd\n",
    "import numpy as np\n",
    "import matplotlib.pyplot as plt\n",
    "\n",
    "playground_equipment = pd.read_csv(\"playground_data.csv\")\n",
    "playground_equipment.head()\n",
    "\n",
    "grouped_equipment = playground_equipment.groupby('neighborhood')\n",
    "\n",
    "# creating the dictionary with every neighborhood in the dataset and assigning it a score of 0 to start\n",
    "playground_scores = dict()\n",
    "for neighborhood in playground_equipment.neighborhood.unique():\n",
    "    playground_scores[neighborhood] = 0\n",
    "\n",
    "# setting up the constants\n",
    "num_playgrounds_weight = 2  \n",
    "ada_accessible_weight = 4\n",
    "quality_weight = 10\n",
    "\n",
    "# adding the score for number of unique equipment pieces (quality)\n",
    "for i in range(grouped_equipment.equipment_type.nunique().count()):\n",
    "    playground_scores[grouped_equipment.equipment_type.nunique().index[i]] += grouped_equipment.equipment_type.nunique()[i]\n",
    "\n",
    "# adding the score for the number of ADA accessible equipment pieces\n",
    "for i in range(grouped_equipment.ada_accessible.value_counts().count()):\n",
    "    if grouped_equipment.ada_accessible.value_counts().index[i][1] == \"t\":\n",
    "        playground_scores[grouped_equipment.ada_accessible.value_counts().index[i][0]] += grouped_equipment.ada_accessible.value_counts()[i] * ada_accessible_weight\n",
    "\n",
    "# weight the quality score\n",
    "for neighborhood in playground_scores:\n",
    "    playground_scores[neighborhood] *= quality_weight\n",
    "        \n",
    "# adding the score for number of pieces of equipment (quantity)\n",
    "for i in range(grouped_equipment.id.count().count()):\n",
    "    playground_scores[grouped_equipment.id.count().index[i]] += grouped_equipment.id.count()[i]\n",
    "\n",
    "# adding the score for number of playgrounds (quantity)\n",
    "for i in range(grouped_equipment.name.nunique().count()):\n",
    "    playground_scores[grouped_equipment.name.nunique().index[i]] += grouped_equipment.name.nunique()[i] * num_playgrounds_weight\n",
    "\n",
    "# normalizing the score to a (0, 1) range\n",
    "max_score = max(playground_scores.values())\n",
    "for neighborhood in playground_scores:\n",
    "    playground_scores[neighborhood] /= max_score\n",
    "    playground_scores[neighborhood] = round(playground_scores[neighborhood], 3)"
   ]
  },
  {
   "cell_type": "markdown",
   "metadata": {},
   "source": [
    "Arrests Data"
   ]
  },
  {
   "cell_type": "code",
   "execution_count": 16,
   "metadata": {},
   "outputs": [],
   "source": [
    "arrests = pd.read_csv(\"https://data.wprdc.org/datastore/dump/e03a89dd-134a-4ee8-a2bd-62c40aeebc6f\")\n",
    "# Import RegEx for Python\n",
    "import re\n",
    "\n",
    "# Arrays of codes based on special point values\n",
    "plus_2 = [3929, 2705, 3304, 3921, 3736]\n",
    "plus_3 = [4304, 2701, 3701, 3502, 2709, 3702, 3124, 3126]\n",
    "plus_4 = [2702]\n",
    "plus_5 = [3121, 2504, 2718]\n",
    "plus_7 = [2901]\n",
    "plus_10 = [2501, 3732, 3735]\n",
    "\n",
    "# Function to calculate scores based on codes\n",
    "def get_value(code):\n",
    "    if code in plus_2:\n",
    "        return 2\n",
    "    elif code in plus_3:\n",
    "        return 3\n",
    "    elif code in plus_4:\n",
    "        return 4\n",
    "    elif code in plus_5:\n",
    "        return 5\n",
    "    elif code in plus_7:\n",
    "        return 7\n",
    "    elif code in plus_10:\n",
    "        return 10\n",
    "    else:\n",
    "        return 1\n",
    "\n",
    "\n",
    "scores = {}\n",
    "\n",
    "# Get each row from arrests\n",
    "for arrest in arrests.index:\n",
    "    \n",
    "    # Make sure a valid entry is made in each column\n",
    "    if isinstance(arrests['INCIDENTNEIGHBORHOOD'][arrest], str) and isinstance(arrests[\"OFFENSES\"][arrest], str):\n",
    "        \n",
    "        neighborhood = arrests['INCIDENTNEIGHBORHOOD'][arrest]\n",
    "        offences_str = arrests[\"OFFENSES\"][arrest]\n",
    "        \n",
    "        # Make array of individual offences\n",
    "        offences = [offence.strip() for offence in offences_str.split('/')]\n",
    "        for offence in offences:\n",
    "            \n",
    "            # Get offence code by regex\n",
    "            offence_code = re.search(r'\\d+', offence)\n",
    "            if offence_code != None:\n",
    "                offence_code = int(offence_code.group())\n",
    "            \n",
    "            # Get point value for that code\n",
    "            points = get_value(offence_code)\n",
    "            \n",
    "            # Filter out bad input\n",
    "            if neighborhood[:3] != \"Mt.\" and \"-Herrs\" not in neighborhood:\n",
    "                \n",
    "                # Add to scores dictionary\n",
    "                if neighborhood in scores:\n",
    "                    scores[neighborhood] += points\n",
    "                else:\n",
    "                    scores[neighborhood] = points\n",
    "                    \n",
    "# Normalize the score\n",
    "max_score = max(scores.values())\n",
    "for score in scores:\n",
    "    scores[score] /= max_score\n",
    "    scores[score] = round(scores[score], 3)"
   ]
  },
  {
   "cell_type": "markdown",
   "metadata": {},
   "source": [
    "Combining all of them:"
   ]
  },
  {
   "cell_type": "code",
   "execution_count": 32,
   "metadata": {},
   "outputs": [
    {
     "name": "stdout",
     "output_type": "stream",
     "text": [
      "1. Squirrel Hill South - 1.78\n",
      "2. Elliott - 1.312\n",
      "3. Beechview - 1.267\n",
      "4. South Side Slopes - 1.256\n",
      "5. Highland Park - 1.241\n",
      "6. Regent Square - 1.229\n",
      "7. Morningside - 1.225\n",
      "8. Swisshelm Park - 1.22\n",
      "9. Beltzhoover - 1.212\n",
      "10. New Homestead - 1.173\n"
     ]
    }
   ],
   "source": [
    "final_scores = dict()\n",
    "\n",
    "playground_weighting = 1\n",
    "arrest_weighting = 1\n",
    "\n",
    "#adding scores for playgrounds\n",
    "for neighborhood in playground_scores:\n",
    "    final_scores[neighborhood] = playground_scores[neighborhood] * playground_weighting\n",
    "\n",
    "#adding scores for arrests\n",
    "for neighborhood in scores:\n",
    "    if neighborhood in final_scores:\n",
    "        final_scores[neighborhood] = final_scores[neighborhood] + (1 - scores[neighborhood]) * arrest_weighting\n",
    "    else:\n",
    "        final_scores[neighborhood] = (1 - scores[neighborhood]) * arrest_weighting\n",
    "\n",
    "#sorting total\n",
    "final_sorted = sorted(final_scores.items(), key=lambda x: x[1], reverse=True)\n",
    "for i in range(10):\n",
    "    print(str(i + 1) + \". \" + final_sorted[i][0] + \" - \" + str(final_sorted[i][1]))"
   ]
  }
 ],
 "metadata": {
  "kernelspec": {
   "display_name": "Python 3",
   "language": "python",
   "name": "python3"
  },
  "language_info": {
   "codemirror_mode": {
    "name": "ipython",
    "version": 3
   },
   "file_extension": ".py",
   "mimetype": "text/x-python",
   "name": "python",
   "nbconvert_exporter": "python",
   "pygments_lexer": "ipython3",
   "version": "3.8.3"
  }
 },
 "nbformat": 4,
 "nbformat_minor": 4
}
